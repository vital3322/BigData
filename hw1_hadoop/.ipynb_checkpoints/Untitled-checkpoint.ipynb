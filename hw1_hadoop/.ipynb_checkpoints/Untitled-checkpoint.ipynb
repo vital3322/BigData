{
 "cells": [
  {
   "cell_type": "code",
   "execution_count": 2,
   "metadata": {},
   "outputs": [
    {
     "name": "stdout",
     "output_type": "stream",
     "text": [
      "1\t20011204.1149509996\n",
      "1\t20011204.115313001\n"
     ]
    }
   ],
   "source": [
    "#!/usr/bin/env python\n",
    "# coding=utf-8\n",
    "import sys\n",
    "from decimal import Decimal    \n",
    "\n",
    "data = ['1\\t20011204.1149509996', '1\\t20011204.115313001']\n",
    "\n",
    "\n",
    "current_elem = None\n",
    "current_sum = 0.0\n",
    "current_count = 0\n",
    "elem = None\n",
    "\n",
    "# input comes from STDIN\n",
    "for line in data:\n",
    "    line = line.strip()\n",
    "    antiNucleus, prodTime = line.split('\\t', 1)\n",
    "    try:\n",
    "        antiNucleus = int(antiNucleus)\n",
    "        prodTime = Decimal(prodTime)\n",
    "    except:\n",
    "        continue\n",
    "    elem = antiNucleus\t\n",
    "    if current_elem == elem:\n",
    "        current_count += 1\n",
    "        current_sum += prodTime\n",
    "    else:\n",
    "        if current_elem:\n",
    "            mean = current_sum / current_count\n",
    "            print '%s\\t%s' % (str(current_elem), str(mean))\n",
    "        current_count = 1\n",
    "        current_elem = elem\n",
    "\n",
    "# do not forget to output the last word if needed!\n",
    "if current_elem == elem:\n",
    "    mean = current_sum / current_count\n",
    "    print '%s\\t%s' % (str(current_elem), str(mean))"
   ]
  },
  {
   "cell_type": "code",
   "execution_count": 7,
   "metadata": {},
   "outputs": [
    {
     "name": "stdout",
     "output_type": "stream",
     "text": [
      "1\n"
     ]
    }
   ],
   "source": [
    "print(1)"
   ]
  },
  {
   "cell_type": "code",
   "execution_count": null,
   "metadata": {},
   "outputs": [],
   "source": []
  }
 ],
 "metadata": {
  "kernelspec": {
   "display_name": "Python 3",
   "language": "python",
   "name": "python3"
  },
  "language_info": {
   "codemirror_mode": {
    "name": "ipython",
    "version": 3
   },
   "file_extension": ".py",
   "mimetype": "text/x-python",
   "name": "python",
   "nbconvert_exporter": "python",
   "pygments_lexer": "ipython3",
   "version": "3.5.2"
  }
 },
 "nbformat": 4,
 "nbformat_minor": 2
}
